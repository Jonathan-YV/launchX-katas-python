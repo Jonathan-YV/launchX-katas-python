{
 "cells": [
  {
   "cell_type": "code",
   "execution_count": 2,
   "metadata": {},
   "outputs": [],
   "source": [
    "tierra = 149597870\n",
    "jupiter = 778547200"
   ]
  },
  {
   "cell_type": "code",
   "execution_count": 4,
   "metadata": {},
   "outputs": [
    {
     "name": "stdout",
     "output_type": "stream",
     "text": [
      "628949330\n"
     ]
    }
   ],
   "source": [
    "distancia_planetas = abs(jupiter - tierra)\n",
    "print(distancia_planetas)"
   ]
  },
  {
   "cell_type": "code",
   "execution_count": 5,
   "metadata": {},
   "outputs": [
    {
     "name": "stdout",
     "output_type": "stream",
     "text": [
      "390577533.93\n"
     ]
    }
   ],
   "source": [
    "distancia_planetas_millas = distancia_planetas * 0.621\n",
    "print(distancia_planetas_millas)"
   ]
  },
  {
   "cell_type": "code",
   "execution_count": 6,
   "metadata": {},
   "outputs": [],
   "source": [
    "planeta_1 = int(input(\"Distancia del planeta 1: \"))\n",
    "planeta_2 = int(input(\"Distancia del planeta 2: \"))"
   ]
  },
  {
   "cell_type": "code",
   "execution_count": 9,
   "metadata": {},
   "outputs": [
    {
     "name": "stdout",
     "output_type": "stream",
     "text": [
      "30\n",
      "18.63\n"
     ]
    }
   ],
   "source": [
    "distancia_planetas = abs(planeta_1 - planeta_2)\n",
    "distancia_planetas_millas = distancia_planetas * 0.621\n",
    "print(distancia_planetas)\n",
    "print(distancia_planetas_millas)"
   ]
  }
 ],
 "metadata": {
  "interpreter": {
   "hash": "a1e4f7c3ba9f4a438e071cf13e58a3b593a6962f099d15129dc6ad47d38393ea"
  },
  "kernelspec": {
   "display_name": "Python 3.8.8rc1 ('katas')",
   "language": "python",
   "name": "python3"
  },
  "language_info": {
   "codemirror_mode": {
    "name": "ipython",
    "version": 3
   },
   "file_extension": ".py",
   "mimetype": "text/x-python",
   "name": "python",
   "nbconvert_exporter": "python",
   "pygments_lexer": "ipython3",
   "version": "3.8.8rc1"
  },
  "orig_nbformat": 4
 },
 "nbformat": 4,
 "nbformat_minor": 2
}
