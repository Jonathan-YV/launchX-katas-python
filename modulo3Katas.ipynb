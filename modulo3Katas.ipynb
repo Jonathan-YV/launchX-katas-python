{
 "cells": [
  {
   "cell_type": "code",
   "execution_count": 1,
   "metadata": {},
   "outputs": [
    {
     "name": "stdout",
     "output_type": "stream",
     "text": [
      "Alerta\n"
     ]
    }
   ],
   "source": [
    "vel_asteroide = 49\n",
    "if vel_asteroide > 25:\n",
    "    print('Alerta')\n",
    "else:\n",
    "    print('No pasa nada')"
   ]
  },
  {
   "cell_type": "code",
   "execution_count": 2,
   "metadata": {},
   "outputs": [
    {
     "name": "stdout",
     "output_type": "stream",
     "text": [
      "No pasa nada\n"
     ]
    }
   ],
   "source": [
    "vel_asteroide = 19\n",
    "if vel_asteroide >= 20:\n",
    "    print('Hay luces en el cielo')\n",
    "else:\n",
    "    print('No pasa nada')"
   ]
  },
  {
   "cell_type": "code",
   "execution_count": 3,
   "metadata": {},
   "outputs": [
    {
     "name": "stdout",
     "output_type": "stream",
     "text": [
      "Alerta\n"
     ]
    }
   ],
   "source": [
    "velocidad_asteroide = 25\n",
    "tamano_asteroide = 40\n",
    "if velocidad_asteroide > 25 or tamano_asteroide > 25:\n",
    "    print('Alerta')\n",
    "elif velocidad_asteroide >= 20:\n",
    "    print('Hay luces en el cielo')\n",
    "elif tamano_asteroide < 25:\n",
    "    print('No pasa nada')\n",
    "else:\n",
    "    print('No pasa nada')"
   ]
  }
 ],
 "metadata": {
  "interpreter": {
   "hash": "a1e4f7c3ba9f4a438e071cf13e58a3b593a6962f099d15129dc6ad47d38393ea"
  },
  "kernelspec": {
   "display_name": "Python 3.8.8rc1 ('katas')",
   "language": "python",
   "name": "python3"
  },
  "language_info": {
   "codemirror_mode": {
    "name": "ipython",
    "version": 3
   },
   "file_extension": ".py",
   "mimetype": "text/x-python",
   "name": "python",
   "nbconvert_exporter": "python",
   "pygments_lexer": "ipython3",
   "version": "3.8.8rc1"
  },
  "orig_nbformat": 4
 },
 "nbformat": 4,
 "nbformat_minor": 2
}
