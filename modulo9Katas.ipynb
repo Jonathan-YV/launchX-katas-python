{
 "cells": [
  {
   "cell_type": "markdown",
   "metadata": {},
   "source": [
    "### Ejercicio 1"
   ]
  },
  {
   "cell_type": "code",
   "execution_count": 23,
   "metadata": {},
   "outputs": [],
   "source": [
    "def reporte_gasolina(tanque1, tanque2, tanque3):\n",
    "    promedio = round((tanque1 + tanque2 + tanque3)/3,2)\n",
    "    return f''' \n",
    "    Promedio: {promedio} %\n",
    "    -----------------------------\n",
    "    Tanque 1: {tanque1} %\n",
    "    Tanque 2: {tanque2} %\n",
    "    Tanque 3: {tanque3} %\n",
    "    '''"
   ]
  },
  {
   "cell_type": "code",
   "execution_count": 24,
   "metadata": {},
   "outputs": [
    {
     "name": "stdout",
     "output_type": "stream",
     "text": [
      " \n",
      "    Promedio: 53.33 %\n",
      "    -----------------------------\n",
      "    Tanque 1: 30 %\n",
      "    Tanque 2: 50 %\n",
      "    Tanque 3: 80 %\n",
      "    \n"
     ]
    }
   ],
   "source": [
    "print(reporte_gasolina(30,50,80))"
   ]
  },
  {
   "cell_type": "code",
   "execution_count": 25,
   "metadata": {},
   "outputs": [],
   "source": [
    "def promedio(*valores):\n",
    "    total = sum(valores)\n",
    "    return total/len(valores)"
   ]
  },
  {
   "cell_type": "code",
   "execution_count": 34,
   "metadata": {},
   "outputs": [],
   "source": [
    "def reporte_gasolina_v2(tanque1, tanque2, tanque3):\n",
    "    promedioT = round(promedio(tanque1 + tanque2 + tanque3)/3,2)\n",
    "    return f'''\n",
    "    Promedio: {promedioT} %\n",
    "    -----------------------------\n",
    "    Tanque 1: {tanque1} %\n",
    "    Tanque 2: {tanque2} %\n",
    "    Tanque 3: {tanque3} %\n",
    "    '''"
   ]
  },
  {
   "cell_type": "code",
   "execution_count": 35,
   "metadata": {},
   "outputs": [
    {
     "name": "stdout",
     "output_type": "stream",
     "text": [
      "\n",
      "    Promedio: 53.33 %\n",
      "    -----------------------------\n",
      "    Tanque 1: 30 %\n",
      "    Tanque 2: 50 %\n",
      "    Tanque 3: 80 %\n",
      "    \n"
     ]
    }
   ],
   "source": [
    "print(reporte_gasolina_v2(30,50,80))"
   ]
  },
  {
   "cell_type": "markdown",
   "metadata": {},
   "source": [
    "### Ejercicio 2"
   ]
  },
  {
   "cell_type": "code",
   "execution_count": 36,
   "metadata": {},
   "outputs": [],
   "source": [
    "def informe_mision(horaL, tiempoV, destino, tanqueE, tanqueI):\n",
    "    return f'''\n",
    "    Destino de la misión: {destino}\n",
    "    Hora del prelanzamiento: {horaL}\n",
    "    Tiempo de vuelo: {tiempoV}\n",
    "    Tanque externo: {tanqueE}\n",
    "    Tanque interno: {tanqueI}\n",
    "    '''"
   ]
  },
  {
   "cell_type": "code",
   "execution_count": 37,
   "metadata": {},
   "outputs": [
    {
     "name": "stdout",
     "output_type": "stream",
     "text": [
      "\n",
      "    Destino de la misión: La luna\n",
      "    Hora del prelanzamiento: 14:55H\n",
      "    Tiempo de vuelo: 2 dias\n",
      "    Tanque externo: 80\n",
      "    Tanque interno: 60\n",
      "    \n"
     ]
    }
   ],
   "source": [
    "print(informe_mision(\"14:55H\",\"2 dias\",\"La luna\",80,60))"
   ]
  },
  {
   "cell_type": "code",
   "execution_count": 42,
   "metadata": {},
   "outputs": [],
   "source": [
    "def informe_mision_completo(destino,horaL, *tiempos, **tanques):\n",
    "    return f'''\n",
    "    Destino de la misión: {destino}\n",
    "    ---------------------------------------\n",
    "    Hora del prelanzamiento: {horaL}\n",
    "    Cantidad de escalas: {len(tiempos)}\n",
    "    Tiempo total de vuelo: {sum(tiempos)}\n",
    "    Promedio de gasolina: {sum(tanques.values())/len(tanques)}\n",
    "    '''"
   ]
  },
  {
   "cell_type": "code",
   "execution_count": 43,
   "metadata": {},
   "outputs": [
    {
     "name": "stdout",
     "output_type": "stream",
     "text": [
      "\n",
      "    Destino de la misión: Luna\n",
      "    ---------------------------------------\n",
      "    Hora del prelanzamiento: 14:55H\n",
      "    Cantidad de escalas: 3\n",
      "    Tiempo total de vuelo: 21\n",
      "    Promedio de gasolina: 60.0\n",
      "    \n"
     ]
    }
   ],
   "source": [
    "print(informe_mision_completo(\"Luna\",\"14:55H\",1,15,5,principal=50,secundario=70))"
   ]
  },
  {
   "cell_type": "code",
   "execution_count": 56,
   "metadata": {},
   "outputs": [],
   "source": [
    "def informe_mision_completo_v2(destino,horaL, *tiempos, **tanques):\n",
    "    mensaje = f'''\n",
    "    Destino de la misión: {destino}\n",
    "    ---------------------------------------\n",
    "    Hora del prelanzamiento: {horaL}\n",
    "    Cantidad de escalas: {len(tiempos)}\n",
    "    Tiempo total de vuelo: {sum(tiempos)}\n",
    "    Promedio de gasolina: {sum(tanques.values())/len(tanques)}\n",
    "    '''\n",
    "    for nombreTanque, totalTanque in tanques.items():\n",
    "        mensaje += f'{nombreTanque}: {totalTanque}%, '\n",
    "    return mensaje"
   ]
  },
  {
   "cell_type": "code",
   "execution_count": 57,
   "metadata": {},
   "outputs": [
    {
     "name": "stdout",
     "output_type": "stream",
     "text": [
      "\n",
      "    Destino de la misión: Luna\n",
      "    ---------------------------------------\n",
      "    Hora del prelanzamiento: 14:55H\n",
      "    Cantidad de escalas: 3\n",
      "    Tiempo total de vuelo: 21\n",
      "    Promedio de gasolina: 60.0\n",
      "    Principal: 50%, Secundario: 70%, \n"
     ]
    }
   ],
   "source": [
    "print(informe_mision_completo_v2(\"Luna\",\"14:55H\",1,15,5,Principal=50,Secundario=70))"
   ]
  }
 ],
 "metadata": {
  "interpreter": {
   "hash": "a1e4f7c3ba9f4a438e071cf13e58a3b593a6962f099d15129dc6ad47d38393ea"
  },
  "kernelspec": {
   "display_name": "Python 3.8.8rc1 ('katas')",
   "language": "python",
   "name": "python3"
  },
  "language_info": {
   "codemirror_mode": {
    "name": "ipython",
    "version": 3
   },
   "file_extension": ".py",
   "mimetype": "text/x-python",
   "name": "python",
   "nbconvert_exporter": "python",
   "pygments_lexer": "ipython3",
   "version": "3.8.8rc1"
  },
  "orig_nbformat": 4
 },
 "nbformat": 4,
 "nbformat_minor": 2
}
